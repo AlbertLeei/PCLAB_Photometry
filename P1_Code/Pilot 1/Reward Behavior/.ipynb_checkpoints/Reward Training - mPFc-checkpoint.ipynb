{
 "cells": [
  {
   "cell_type": "code",
   "execution_count": 1,
   "id": "ba415e0a-22df-4bed-b1d3-d954eeef7ef7",
   "metadata": {},
   "outputs": [],
   "source": [
    "# Jupyter magic\n",
    "%matplotlib inline\n",
    "\n",
    "import numpy as np\n",
    "import matplotlib.pyplot as plt  # standard Python plotting library\n",
    "\n",
    "# import the tdt library\n",
    "import tdt\n",
    "import pandas as pd"
   ]
  },
  {
   "cell_type": "code",
   "execution_count": 2,
   "id": "68189064-e959-410a-9b19-2673882a29c2",
   "metadata": {},
   "outputs": [
    {
     "name": "stdout",
     "output_type": "stream",
     "text": [
      "Found Synapse note file: C:/Users/yongc/Desktop/Synapse/Tanks/RewardTrainingComp-240307-102847/dLight_mPFC-240308-061317\\Notes.txt\n",
      "read from t=0s to t=1815.4s\n"
     ]
    }
   ],
   "source": [
    "# Must read with \"/\" not \"\\\n",
    "NAc_PATH = 'C:/Users/yongc/Desktop/Synapse/Tanks/RewardTrainingComp-240307-102847/dLight_mPFC-240308-061317'\n",
    "NAc_data = tdt.read_block(NAc_PATH)"
   ]
  },
  {
   "cell_type": "code",
   "execution_count": 6,
   "id": "21d9177e-831b-4dd4-8e3b-4cf2b42ddec1",
   "metadata": {},
   "outputs": [
    {
     "data": {
      "text/plain": [
       "name:\t'PC3/'\n",
       "onset:\tarray([   0.        ,   66.60046848,  146.60026368,  236.60036096,\n",
       "        316.60015616,  391.60037376,  491.60044544,  586.60143104,\n",
       "        676.60038144,  756.60034048,  846.60043776,  946.6003456 ,\n",
       "       1036.60044288, 1156.60079104, 1246.60056064, 1331.60075264,\n",
       "       1421.60068608, 1516.60085248, 1636.6010368 , 1716.600832  ,\n",
       "       1810.20131328])\n",
       "offset:\tarray([   6.58030592,   76.6001152 ,  156.60023808,  246.6004992 ,\n",
       "        326.60045824,  401.60018432,  501.600256  ,  596.60173312,\n",
       "        686.60051968,  766.60047872,  856.600576  ,  956.60064768,\n",
       "       1046.60041728, 1166.6006016 , 1256.60069888, 1341.6005632 ,\n",
       "       1431.60066048, 1526.60082688, 1646.60084736, 1726.60097024,\n",
       "                 inf])\n",
       "type:\t'onset'\n",
       "type_str:\t'epocs'\n",
       "data:\tarray([1., 1., 1., 1., 1., 1., 1., 1., 1., 1., 1., 1., 1., 1., 1., 1., 1.,\n",
       "       1., 1., 1., 1.])\n",
       "dform:\t4\n",
       "size:\t10"
      ]
     },
     "execution_count": 6,
     "metadata": {},
     "output_type": "execute_result"
    }
   ],
   "source": [
    "NAc_data.epocs.PC3_"
   ]
  },
  {
   "cell_type": "code",
   "execution_count": null,
   "id": "d1e774db-9e2d-43bb-9a3c-56bd81a15838",
   "metadata": {},
   "outputs": [],
   "source": []
  }
 ],
 "metadata": {
  "kernelspec": {
   "display_name": "Python 3 (ipykernel)",
   "language": "python",
   "name": "python3"
  },
  "language_info": {
   "codemirror_mode": {
    "name": "ipython",
    "version": 3
   },
   "file_extension": ".py",
   "mimetype": "text/x-python",
   "name": "python",
   "nbconvert_exporter": "python",
   "pygments_lexer": "ipython3",
   "version": "3.9.13"
  }
 },
 "nbformat": 4,
 "nbformat_minor": 5
}
