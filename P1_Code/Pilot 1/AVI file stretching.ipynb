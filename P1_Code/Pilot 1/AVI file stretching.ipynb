{
 "cells": [
  {
   "cell_type": "code",
   "execution_count": 1,
   "id": "d1bf6676",
   "metadata": {},
   "outputs": [],
   "source": [
    "from moviepy.editor import *"
   ]
  },
  {
   "cell_type": "code",
   "execution_count": 2,
   "id": "35da7750",
   "metadata": {},
   "outputs": [],
   "source": [
    "video_path = r\"C:\\Users\\yongc\\Desktop\\Exp 2 - 03032024 Social Defeat 2\\dLight_NAc-240303-085020\\Pilot_One-240213-074740_dLight_NAc-240303-085020_Cam1.avi\"\n",
    "video_save_path = r\"C:\\Users\\yongc\\Desktop\\Exp 2 - 03032024 Social Defeat 2\\Adjusted Videos\\NAc-240303-085020.mp4\"\n",
    "total_frames = 8537\n",
    "total_seconds = 491.738"
   ]
  },
  {
   "cell_type": "code",
   "execution_count": 3,
   "id": "8e4a8840",
   "metadata": {},
   "outputs": [],
   "source": [
    "video = VideoFileClip(video_path)"
   ]
  },
  {
   "cell_type": "code",
   "execution_count": 4,
   "id": "44ae6c67",
   "metadata": {
    "scrolled": true
   },
   "outputs": [
    {
     "data": {
      "text/plain": [
       "377.7"
      ]
     },
     "execution_count": 4,
     "metadata": {},
     "output_type": "execute_result"
    }
   ],
   "source": [
    "# Number of seconds in the video\n",
    "avi_duration = video.duration\n",
    "avi_duration"
   ]
  },
  {
   "cell_type": "code",
   "execution_count": 5,
   "id": "9c1092c4",
   "metadata": {},
   "outputs": [
    {
     "data": {
      "text/plain": [
       "7554"
      ]
     },
     "execution_count": 5,
     "metadata": {},
     "output_type": "execute_result"
    }
   ],
   "source": [
    "# fps of avl file\n",
    "avi_fps = video.fps\n",
    "avi_total_frames = int(video.fps * video.duration)\n",
    "avi_total_frames"
   ]
  },
  {
   "cell_type": "code",
   "execution_count": 6,
   "id": "5e06d1e8",
   "metadata": {},
   "outputs": [
    {
     "data": {
      "text/plain": [
       "491.73799999999994"
      ]
     },
     "execution_count": 6,
     "metadata": {},
     "output_type": "execute_result"
    }
   ],
   "source": [
    "#Change the speed of the video to match OpenScope\n",
    "new_speed = avi_duration / total_seconds\n",
    "slowed_video = video.fx(vfx.speedx, new_speed)\n",
    "slowed_video.duration"
   ]
  },
  {
   "cell_type": "code",
   "execution_count": 7,
   "id": "f028f5c1",
   "metadata": {},
   "outputs": [
    {
     "data": {
      "text/plain": [
       "17.36087103294844"
      ]
     },
     "execution_count": 7,
     "metadata": {},
     "output_type": "execute_result"
    }
   ],
   "source": [
    "#Find the frame rate needed \n",
    "correct_fps = total_frames / total_seconds\n",
    "correct_fps"
   ]
  },
  {
   "cell_type": "code",
   "execution_count": 8,
   "id": "41337055",
   "metadata": {
    "scrolled": true
   },
   "outputs": [
    {
     "name": "stdout",
     "output_type": "stream",
     "text": [
      "Moviepy - Building video C:\\Users\\yongc\\Desktop\\Exp 2 - 03032024 Social Defeat 2\\Adjusted Videos\\NAc-240303-085020.mp4.\n",
      "Moviepy - Writing video C:\\Users\\yongc\\Desktop\\Exp 2 - 03032024 Social Defeat 2\\Adjusted Videos\\NAc-240303-085020.mp4\n",
      "\n"
     ]
    },
    {
     "name": "stderr",
     "output_type": "stream",
     "text": [
      "                                                                                                                       \r"
     ]
    },
    {
     "name": "stdout",
     "output_type": "stream",
     "text": [
      "Moviepy - Done !\n",
      "Moviepy - video ready C:\\Users\\yongc\\Desktop\\Exp 2 - 03032024 Social Defeat 2\\Adjusted Videos\\NAc-240303-085020.mp4\n"
     ]
    }
   ],
   "source": [
    "slowed_video.write_videofile(video_save_path,\n",
    "                             codec = 'libx264',\n",
    "                             fps = correct_fps)td"
   ]
  },
  {
   "cell_type": "code",
   "execution_count": null,
   "id": "b2f3cb74",
   "metadata": {},
   "outputs": [],
   "source": []
  }
 ],
 "metadata": {
  "kernelspec": {
   "display_name": "Python 3 (ipykernel)",
   "language": "python",
   "name": "python3"
  },
  "language_info": {
   "codemirror_mode": {
    "name": "ipython",
    "version": 3
   },
   "file_extension": ".py",
   "mimetype": "text/x-python",
   "name": "python",
   "nbconvert_exporter": "python",
   "pygments_lexer": "ipython3",
   "version": "3.9.13"
  }
 },
 "nbformat": 4,
 "nbformat_minor": 5
}
