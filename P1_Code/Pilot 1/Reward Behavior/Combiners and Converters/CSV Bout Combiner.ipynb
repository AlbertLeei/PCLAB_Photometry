{
 "cells": [
  {
   "cell_type": "code",
   "execution_count": 1,
   "id": "bc309ad5-2611-44f5-b686-4464dccd5251",
   "metadata": {},
   "outputs": [],
   "source": [
    "# Jupyter magic\n",
    "%matplotlib inline\n",
    "\n",
    "import numpy as np\n",
    "import matplotlib.pyplot as plt  # standard Python plotting library\n",
    "\n",
    "# import the tdt library\n",
    "import tdt\n",
    "import pandas as pd\n",
    "from numpy import genfromtxt"
   ]
  },
  {
   "cell_type": "code",
   "execution_count": 2,
   "id": "e03d3aeb-36e0-4a91-bb77-0ee820d8d04b",
   "metadata": {},
   "outputs": [],
   "source": [
    "def combine_bouts(array, threshold):\n",
    "    combined = [array[0]]\n",
    "    for i in range(1, len(array)):\n",
    "        if array[i] - combined[-1] > threshold:\n",
    "            combined.append(array[i])\n",
    "    return np.array(combined)\n",
    "\n",
    "def combine_bouts_end(array, threshold):\n",
    "    combined = [array[0]]\n",
    "    for i in range(1, len(array)):\n",
    "        if array[i] - combined[-1] > threshold:\n",
    "            combined[-1] = array[i-1]\n",
    "            combined.append(array[i])\n",
    "    combined[-1] = array[-1]  # Ensure the last point is included\n",
    "    return np.array(combined)"
   ]
  },
  {
   "cell_type": "code",
   "execution_count": 19,
   "id": "086f3585-96b9-4ecd-931a-ffc5db633227",
   "metadata": {},
   "outputs": [],
   "source": [
    "# Must read with \"/\" not \"\\\n",
    "onset_Path= r\"C:\\Users\\yongc\\Desktop\\Exp 2 - 03032024 Social Defeat 2\\Adjusted Videos\\mPFC Agonistic Behavior Onset.csv\"\n",
    "offset_Path= r\"C:\\Users\\yongc\\Desktop\\Exp 2 - 03032024 Social Defeat 2\\Adjusted Videos\\mPFC Agonistic Behavior Offset.csv\""
   ]
  },
  {
   "cell_type": "code",
   "execution_count": 20,
   "id": "3d1d0c49-062e-4c09-b016-a7900a53dfda",
   "metadata": {},
   "outputs": [
    {
     "data": {
      "text/plain": [
       "array([    nan, 235.348, 238.745, 243.293, 245.826, 286.126, 396.143,\n",
       "       422.28 ])"
      ]
     },
     "execution_count": 20,
     "metadata": {},
     "output_type": "execute_result"
    }
   ],
   "source": [
    "onset_list = genfromtxt(onset_Path, delimiter=',')\n",
    "offset_list = genfromtxt(offset_Path, delimiter=',')\n",
    "onset_list"
   ]
  },
  {
   "cell_type": "code",
   "execution_count": 21,
   "id": "c51af7b7-65e6-4213-a5a0-4fdb2c7058e5",
   "metadata": {},
   "outputs": [
    {
     "data": {
      "text/plain": [
       "array([235.348, 238.745, 243.293, 245.826, 286.126, 396.143, 422.28 ])"
      ]
     },
     "execution_count": 21,
     "metadata": {},
     "output_type": "execute_result"
    }
   ],
   "source": [
    "onset_list = onset_list[1:]\n",
    "offset_list = offset_list[1:]\n",
    "onset_list"
   ]
  },
  {
   "cell_type": "code",
   "execution_count": 22,
   "id": "ddc86094-0563-4000-a349-476cc8f4b8f4",
   "metadata": {},
   "outputs": [
    {
     "data": {
      "text/plain": [
       "array([235.348, 243.293, 286.126, 396.143, 422.28 ])"
      ]
     },
     "execution_count": 22,
     "metadata": {},
     "output_type": "execute_result"
    }
   ],
   "source": [
    "onset_list = combine_bouts(onset_list, 7)\n",
    "offset_list = combine_bouts_end(offset_list, 7)\n",
    "onset_list"
   ]
  },
  {
   "cell_type": "code",
   "execution_count": 23,
   "id": "3f440180-4f94-4ec8-89c4-03212be2b035",
   "metadata": {},
   "outputs": [],
   "source": [
    "onset_df = pd.DataFrame(onset_list, columns=['timestamps'])\n",
    "offset_df= pd.DataFrame(offset_list, columns=['timestamps'])"
   ]
  },
  {
   "cell_type": "code",
   "execution_count": 24,
   "id": "4bf972c3-4a6b-4e6e-b075-fdfae31e1d9c",
   "metadata": {},
   "outputs": [],
   "source": [
    "onset_df.to_csv (r'C:\\Users\\yongc\\Desktop\\Exp 2 - 03032024 Social Defeat 2\\Adjusted Videos\\mPFC_Agbeh_onset_df_correct.csv', index = None)\n",
    "offset_df.to_csv (r'C:\\Users\\yongc\\Desktop\\Exp 2 - 03032024 Social Defeat 2\\Adjusted Videos\\mPFC_Agbeh_offset_df_correct.csv', index = None)"
   ]
  },
  {
   "cell_type": "code",
   "execution_count": null,
   "id": "75582c57-9f58-42d6-b3bb-bbfe50a04a01",
   "metadata": {},
   "outputs": [],
   "source": []
  }
 ],
 "metadata": {
  "kernelspec": {
   "display_name": "Python 3 (ipykernel)",
   "language": "python",
   "name": "python3"
  },
  "language_info": {
   "codemirror_mode": {
    "name": "ipython",
    "version": 3
   },
   "file_extension": ".py",
   "mimetype": "text/x-python",
   "name": "python",
   "nbconvert_exporter": "python",
   "pygments_lexer": "ipython3",
   "version": "3.9.13"
  }
 },
 "nbformat": 4,
 "nbformat_minor": 5
}
