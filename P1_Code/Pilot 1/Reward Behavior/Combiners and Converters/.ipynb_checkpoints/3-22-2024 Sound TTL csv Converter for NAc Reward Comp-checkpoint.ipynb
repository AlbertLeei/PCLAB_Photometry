{
 "cells": [
  {
   "cell_type": "code",
   "execution_count": 1,
   "id": "7a5eb714-c4f2-4da2-8ed7-c54da2961222",
   "metadata": {},
   "outputs": [],
   "source": [
    "# Jupyter magic\n",
    "%matplotlib inline\n",
    "\n",
    "import numpy as np\n",
    "import matplotlib.pyplot as plt  # standard Python plotting library\n",
    "\n",
    "# import the tdt library\n",
    "import tdt\n",
    "import pandas as pd"
   ]
  },
  {
   "cell_type": "code",
   "execution_count": 2,
   "id": "61714bc2-67cc-46bf-a5d6-300bbc32fdc4",
   "metadata": {},
   "outputs": [
    {
     "name": "stdout",
     "output_type": "stream",
     "text": [
      "Found Synapse note file: C:\\Users\\yongc\\Desktop\\Synapse\\Tanks\\RewardTrainingComp-240307-102847\\dLight_mPFC-240321-123128\\Notes.txt\n",
      "read from t=0s to t=1862.46s\n"
     ]
    }
   ],
   "source": [
    "# Must read with \"/\" not \"\\\n",
    "NAc_PATH = r'C:\\Users\\yongc\\Desktop\\Synapse\\Tanks\\RewardTrainingComp-240307-102847\\dLight_mPFC-240321-123128'\n",
    "NAc_data = tdt.read_block(NAc_PATH)"
   ]
  },
  {
   "cell_type": "code",
   "execution_count": 3,
   "id": "6e36a695-6990-458d-91f2-9d3547088c80",
   "metadata": {},
   "outputs": [
    {
     "data": {
      "text/plain": [
       "array([  0.5639549 ,   0.56839305,   0.57260144, ..., 254.62347   ,\n",
       "       254.61731   , 254.61136   ], dtype=float32)"
      ]
     },
     "execution_count": 3,
     "metadata": {},
     "output_type": "execute_result"
    }
   ],
   "source": [
    "NAc_data.streams._405A.data"
   ]
  },
  {
   "cell_type": "code",
   "execution_count": 4,
   "id": "85031838-958d-4440-8b28-e649b63e632a",
   "metadata": {},
   "outputs": [
    {
     "data": {
      "text/plain": [
       "name:\t'_405A'\n",
       "code:\t1094004788\n",
       "size:\t138\n",
       "type:\t33025\n",
       "type_str:\t'streams'\n",
       "ucf:\tFalse\n",
       "fs:\t1017.2526245117188\n",
       "dform:\t0\n",
       "start_time:\t0.0\n",
       "data:\tarray([  0.5639549 ,   0.56839305,   0.57260144, ..., 254.62347   ,\n",
       "       254.61731   , 254.61136   ], dtype=float32)\n",
       "channel:\t[1]"
      ]
     },
     "execution_count": 4,
     "metadata": {},
     "output_type": "execute_result"
    }
   ],
   "source": [
    "NAc_data.streams._405A"
   ]
  },
  {
   "cell_type": "markdown",
   "id": "17d80002-fbb2-4b9e-a726-f19614cc5902",
   "metadata": {},
   "source": [
    "PC0 - port entries\n",
    "PC3 - Sound cues"
   ]
  },
  {
   "cell_type": "code",
   "execution_count": 5,
   "id": "69111ce7-dd0c-4ba4-9f5d-f3f49aeb80c1",
   "metadata": {},
   "outputs": [],
   "source": [
    "PC3_onset = NAc_data.epocs.PC3_.onset\n",
    "PC3_offset = NAc_data.epocs.PC3_.offset\n"
   ]
  },
  {
   "cell_type": "code",
   "execution_count": 6,
   "id": "e1890ca7-c35b-4af7-9828-062f2437a5de",
   "metadata": {},
   "outputs": [],
   "source": [
    "PC3_onset = PC3_onset[1:-1]\n",
    "PC3_offset = PC3_offset[1:-1]"
   ]
  },
  {
   "cell_type": "code",
   "execution_count": 7,
   "id": "589c7e2f-2875-4e97-b09c-e8d47b640c3e",
   "metadata": {},
   "outputs": [],
   "source": [
    "onsetPC3_df = pd.DataFrame(PC3_onset, columns=['timestamps'])\n",
    "offsetPC3_df = pd.DataFrame(PC3_offset, columns=['timestamps'])"
   ]
  },
  {
   "cell_type": "code",
   "execution_count": 8,
   "id": "a73abd2f-ab11-4955-abb9-f090aeb2ff00",
   "metadata": {},
   "outputs": [],
   "source": [
    "onsetPC3_df.to_csv (r'C:\\Users\\yongc\\Desktop\\Synapse\\Tanks\\RewardTrainingComp-240307-102847\\dLight_mPFC-240321-123128-csvs\\onsetPC3_df.csv', index = None)\n",
    "offsetPC3_df.to_csv (r'C:\\Users\\yongc\\Desktop\\Synapse\\Tanks\\RewardTrainingComp-240307-102847\\dLight_mPFC-240321-123128-csvs\\offsetPC3_df.csv', index = None)"
   ]
  },
  {
   "cell_type": "code",
   "execution_count": null,
   "id": "b7b9b452-99a4-487d-aefe-0e63687caf46",
   "metadata": {},
   "outputs": [],
   "source": []
  }
 ],
 "metadata": {
  "kernelspec": {
   "display_name": "Python 3 (ipykernel)",
   "language": "python",
   "name": "python3"
  },
  "language_info": {
   "codemirror_mode": {
    "name": "ipython",
    "version": 3
   },
   "file_extension": ".py",
   "mimetype": "text/x-python",
   "name": "python",
   "nbconvert_exporter": "python",
   "pygments_lexer": "ipython3",
   "version": "3.9.13"
  }
 },
 "nbformat": 4,
 "nbformat_minor": 5
}
