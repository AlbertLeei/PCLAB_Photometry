{
 "cells": [
  {
   "cell_type": "code",
   "execution_count": 1,
   "id": "e74422a0",
   "metadata": {},
   "outputs": [],
   "source": [
    "# magic for Jupyter\n",
    "%matplotlib inline\n",
    "\n",
    "#import the read_block function from the tdt package\n",
    "#also import other python packages we care about\n",
    "import numpy as np\n",
    "from sklearn.metrics import auc\n",
    "import matplotlib.pyplot as plt  # standard Python plotting library\n",
    "import scipy.stats as stats\n",
    "\n",
    "import tdt\n"
   ]
  },
  {
   "cell_type": "code",
   "execution_count": 6,
   "id": "e065a448",
   "metadata": {},
   "outputs": [],
   "source": [
    "#tdt.download_demo_data()\n",
    "BLOCKPATH = 'C:/Users/yongc/Desktop/FiPho-180416'"
   ]
  },
  {
   "cell_type": "code",
   "execution_count": 7,
   "id": "d0e2dc87",
   "metadata": {},
   "outputs": [],
   "source": [
    "# Jupyter has a bug that requires import of matplotlib outside of cell with \n",
    "# matplotlib inline magic to properly apply rcParams\n",
    "import matplotlib \n",
    "matplotlib.rcParams['font.size'] = 16 #set font size for all plots\n"
   ]
  },
  {
   "cell_type": "code",
   "execution_count": 12,
   "id": "93b6247a",
   "metadata": {},
   "outputs": [
    {
     "name": "stdout",
     "output_type": "stream",
     "text": [
      "read from t=0s to t=583.86s\n"
     ]
    },
    {
     "data": {
      "text/plain": [
       "epocs\t[struct]\n",
       "snips\t[struct]\n",
       "streams\t[struct]\n",
       "scalars\t[struct]\n",
       "info\t[struct]\n",
       "time_ranges:\tarray([[ 0.],\n",
       "       [inf]])"
      ]
     },
     "execution_count": 12,
     "metadata": {},
     "output_type": "execute_result"
    }
   ],
   "source": [
    "REF_EPOC = 'PtAB' #event store name. This holds behavioral codes that are \n",
    "# read through ports A & B on the front of the RZ\n",
    "SHOCK_CODE = [64959] #shock onset event code we are interested in\n",
    "\n",
    "# make some variables up here to so if they change in new recordings you won't\n",
    "# have to change everything downstream\n",
    "ISOS = '_4054' # 405nm channel. Formally STREAM_STORE1 in maltab example\n",
    "GCaMP = '_4654' # 465nm channel. Formally STREAM_STORE2 in maltab example\n",
    "TRANGE = [-10, 20] # window size [start time relative to epoc onset, window duration]\n",
    "BASELINE_PER = [-10, -6] # baseline period within our window\n",
    "ARTIFACT = float(\"inf\") # optionally set an artifact rejection level\n",
    "\n",
    "#call read block - new variable 'data' is the full data structure\n",
    "data = tdt.read_block(BLOCKPATH)\n",
    "data"
   ]
  },
  {
   "cell_type": "code",
   "execution_count": 13,
   "id": "6c16f4e3",
   "metadata": {},
   "outputs": [
    {
     "data": {
      "text/plain": [
       "epocs\t[struct]\n",
       "snips\t[struct]\n",
       "streams\t[struct]\n",
       "scalars\t[struct]\n",
       "info\t[struct]\n",
       "time_ranges:\tarray([[ 82.49079296, 132.78754304, 183.08412928, 233.38087936,\n",
       "        283.67779328, 333.9747072 , 384.27129344, 434.56804352,\n",
       "        484.86495744, 535.16170752],\n",
       "       [102.49079296, 152.78754304, 203.08412928, 253.38087936,\n",
       "        303.67779328, 353.9747072 , 404.27129344, 454.56804352,\n",
       "        504.86495744, 555.16170752]])\n",
       "time_ref:\t[-10, 20]\n",
       "filter:\t'TIME:PtAB [-10:20];'"
      ]
     },
     "execution_count": 13,
     "metadata": {},
     "output_type": "execute_result"
    }
   ],
   "source": [
    "data = tdt.epoc_filter(data, REF_EPOC, t=TRANGE, values=SHOCK_CODE)\n",
    "data"
   ]
  },
  {
   "cell_type": "code",
   "execution_count": 16,
   "id": "f20a8472",
   "metadata": {},
   "outputs": [
    {
     "data": {
      "text/plain": [
       "[array([87.92406 , 87.92945 , 87.933914, ..., 85.77327 , 85.76263 ,\n",
       "        85.75427 ], dtype=float32),\n",
       " array([89.609   , 89.58979 , 89.570564, ..., 90.58314 , 90.59733 ,\n",
       "        90.61154 ], dtype=float32),\n",
       " array([87.40535, 87.42253, 87.43945, ..., 87.80388, 87.80663, 87.80864],\n",
       "       dtype=float32),\n",
       " array([89.12432 , 89.10324 , 89.082695, ..., 86.786125, 86.77907 ,\n",
       "        86.77229 ], dtype=float32),\n",
       " array([86.445885, 86.42816 , 86.412735, ..., 87.84307 , 87.84679 ,\n",
       "        87.851234], dtype=float32),\n",
       " array([89.99252 , 89.98746 , 89.98229 , ..., 86.5114  , 86.500885,\n",
       "        86.49025 ], dtype=float32),\n",
       " array([86.95531 , 86.931625, 86.90796 , ..., 88.295944, 88.31056 ,\n",
       "        88.32532 ], dtype=float32),\n",
       " array([86.765945, 86.74908 , 86.7321  , ..., 88.404205, 88.41163 ,\n",
       "        88.41798 ], dtype=float32),\n",
       " array([88.24746, 88.2314 , 88.21562, ..., 87.74161, 87.74801, 87.75404],\n",
       "       dtype=float32),\n",
       " array([86.66112, 86.64466, 86.62973, ..., 87.26195, 87.2508 , 87.23932],\n",
       "       dtype=float32)]"
      ]
     },
     "execution_count": 16,
     "metadata": {},
     "output_type": "execute_result"
    }
   ],
   "source": [
    "data.streams[GCaMP].filtered"
   ]
  },
  {
   "cell_type": "code",
   "execution_count": 21,
   "id": "9eafab25",
   "metadata": {},
   "outputs": [],
   "source": [
    "for x in data.streams[GCaMP].filtered:\n",
    "    np.size(x)"
   ]
  },
  {
   "cell_type": "code",
   "execution_count": 18,
   "id": "767dfde4",
   "metadata": {},
   "outputs": [
    {
     "name": "stdout",
     "output_type": "stream",
     "text": [
      "20343 20343\n"
     ]
    }
   ],
   "source": [
    "min1 = np.min([np.size(x) for x in data.streams[GCaMP].filtered])\n",
    "min2 = np.min([np.size(x) for x in data.streams[ISOS].filtered])\n",
    "\n",
    "print(min1, min2)"
   ]
  },
  {
   "cell_type": "code",
   "execution_count": 22,
   "id": "30dc8d5a",
   "metadata": {},
   "outputs": [],
   "source": [
    "# More examples of list comprehensions\n",
    "min1 = np.min([np.size(x) for x in data.streams[GCaMP].filtered])\n",
    "min2 = np.min([np.size(x) for x in data.streams[ISOS].filtered])\n",
    "data.streams[GCaMP].filtered = [x[1:min1] for x in data.streams[GCaMP].filtered]\n",
    "data.streams[ISOS].filtered = [x[1:min2] for x in data.streams[ISOS].filtered]\n",
    "\n",
    "# Downsample and average 10x via a moving window mean\n",
    "N = 10 # Average every 10 samples into 1 value\n",
    "F405 = []\n",
    "F465 = []\n",
    "for lst in data.streams[ISOS].filtered: \n",
    "    small_lst = []\n",
    "    for i in range(0, min2, N):\n",
    "        small_lst.append(np.mean(lst[i:i+N-1])) # This is the moving window mean\n",
    "    F405.append(small_lst)\n",
    "\n",
    "for lst in data.streams[GCaMP].filtered: \n",
    "    small_lst = []\n",
    "    for i in range(0, min1, N):\n",
    "        small_lst.append(np.mean(lst[i:i+N-1]))\n",
    "    F465.append(small_lst)\n",
    "\n",
    "#Create a mean signal, standard error of signal, and DC offset\n",
    "meanF405 = np.mean(F405, axis=0)\n",
    "stdF405 = np.std(F405, axis=0)/np.sqrt(len(data.streams[ISOS].filtered))\n",
    "dcF405 = np.mean(meanF405)\n",
    "meanF465 = np.mean(F465, axis=0)\n",
    "stdF465 = np.std(F465, axis=0)/np.sqrt(len(data.streams[GCaMP].filtered))\n",
    "dcF465 = np.mean(meanF465)\n"
   ]
  },
  {
   "cell_type": "code",
   "execution_count": null,
   "id": "9569ca0e",
   "metadata": {},
   "outputs": [],
   "source": []
  }
 ],
 "metadata": {
  "kernelspec": {
   "display_name": "Python 3 (ipykernel)",
   "language": "python",
   "name": "python3"
  },
  "language_info": {
   "codemirror_mode": {
    "name": "ipython",
    "version": 3
   },
   "file_extension": ".py",
   "mimetype": "text/x-python",
   "name": "python",
   "nbconvert_exporter": "python",
   "pygments_lexer": "ipython3",
   "version": "3.9.13"
  }
 },
 "nbformat": 4,
 "nbformat_minor": 5
}
