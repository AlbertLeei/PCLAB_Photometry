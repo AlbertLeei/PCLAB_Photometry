{
 "cells": [
  {
   "cell_type": "code",
   "execution_count": 20,
   "id": "a70a90b0-5f3c-44de-9122-87147c5fc763",
   "metadata": {},
   "outputs": [],
   "source": [
    "# Jupyter magic\n",
    "%matplotlib inline\n",
    "\n",
    "import numpy as np\n",
    "import matplotlib.pyplot as plt  # standard Python plotting library\n",
    "\n",
    "# import the tdt library\n",
    "import tdt\n",
    "import pandas as pd"
   ]
  },
  {
   "cell_type": "code",
   "execution_count": 21,
   "id": "8c41e46f-5c47-4dd5-929c-3af39cdda0e6",
   "metadata": {},
   "outputs": [
    {
     "name": "stdout",
     "output_type": "stream",
     "text": [
      "Found Synapse note file: C:\\Users\\yongc\\Desktop\\Synapse\\Tanks\\RewardTrainingComp-240307-102847\\dLight_mPFC-240321-123128\\Notes.txt\n",
      "read from t=0s to t=1862.46s\n"
     ]
    }
   ],
   "source": [
    "# Must read with \"/\" not \"\\\n",
    "NAc_PATH = r'C:\\Users\\yongc\\Desktop\\Synapse\\Tanks\\RewardTrainingComp-240307-102847\\dLight_mPFC-240321-123128'\n",
    "NAc_data = tdt.read_block(NAc_PATH)"
   ]
  },
  {
   "cell_type": "code",
   "execution_count": 22,
   "id": "e743d27e-1323-4734-8e2f-28cad8be8f68",
   "metadata": {},
   "outputs": [],
   "source": [
    "PC0_onset = NAc_data.epocs.PC0_.onset\n",
    "PC0_offset = NAc_data.epocs.PC0_.offset\n",
    "\n",
    "PC0_onset = PC0_onset[1:-1]\n",
    "PC0_offset = PC0_offset[1:-1]"
   ]
  },
  {
   "cell_type": "markdown",
   "id": "ec53c3dc-6906-4b67-aafc-1b815007e976",
   "metadata": {},
   "source": [
    "## This next line is just for Reward Comp..."
   ]
  },
  {
   "cell_type": "code",
   "execution_count": 23,
   "id": "ef1ec75e-daad-45b4-950c-9951631445cb",
   "metadata": {},
   "outputs": [],
   "source": [
    "PC0_onset = PC0_onset[PC0_onset > 5]\n",
    "PC0_onset = PC0_onset[PC0_onset < 1900]\n",
    "PC0_offset = PC0_offset[PC0_offset > 5]\n",
    "PC0_offset = PC0_offset[PC0_offset < 1900]"
   ]
  },
  {
   "cell_type": "code",
   "execution_count": 24,
   "id": "115d4e5f-a51a-469f-b7de-287bc84d69e9",
   "metadata": {},
   "outputs": [
    {
     "data": {
      "text/plain": [
       "1867"
      ]
     },
     "execution_count": 24,
     "metadata": {},
     "output_type": "execute_result"
    }
   ],
   "source": [
    "PC0_onset.size"
   ]
  },
  {
   "cell_type": "code",
   "execution_count": 25,
   "id": "25a999a0-d951-495e-a64c-55df21cd4ef0",
   "metadata": {},
   "outputs": [],
   "source": [
    "def combine_bouts(array, threshold):\n",
    "    combined = [array[0]]\n",
    "    for i in range(1, len(array)):\n",
    "        if array[i] - combined[-1] > threshold:\n",
    "            combined.append(array[i])\n",
    "    return np.array(combined)\n",
    "\n",
    "def combine_bouts_end(array, threshold):\n",
    "    combined = [array[0]]\n",
    "    for i in range(1, len(array)):\n",
    "        if array[i] - combined[-1] > threshold:\n",
    "            combined[-1] = array[i-1]\n",
    "            combined.append(array[i])\n",
    "    combined[-1] = array[-1]  # Ensure the last point is included\n",
    "    return np.array(combined)"
   ]
  },
  {
   "cell_type": "code",
   "execution_count": 26,
   "id": "2c5d7ac5-2faa-4906-8e1b-b59fa6551e38",
   "metadata": {},
   "outputs": [],
   "source": [
    "PC0_onset = combine_bouts(PC0_onset, 10)\n",
    "PC0_offset = combine_bouts_end(PC0_offset, 10)"
   ]
  },
  {
   "cell_type": "code",
   "execution_count": 27,
   "id": "7132fceb-552d-4207-a5bc-04c8a53149b0",
   "metadata": {},
   "outputs": [
    {
     "data": {
      "text/plain": [
       "array([   6.10664448,   36.14523392,   57.59516672,   74.4751104 ,\n",
       "        106.00513536,  126.51511808,  144.14495744,  156.68527104,\n",
       "        175.48509184,  187.45540608,  202.97531392,  214.75540992,\n",
       "        225.52510464,  237.48165632,  258.3953408 ,  270.12497408,\n",
       "        286.99541504,  299.45511936,  314.52512256,  333.50516736,\n",
       "        344.80504832,  370.04541952,  385.5753216 ,  396.57209856,\n",
       "        410.4953856 ,  426.13538816,  439.15526144,  450.41516544,\n",
       "        467.51547392,  492.30512128,  507.41526528,  517.59546368,\n",
       "        530.33517056,  540.75523072,  550.93510144,  572.30524416,\n",
       "        593.54513408,  605.83510016,  616.82532352,  630.1155328 ,\n",
       "        651.27530496,  661.9152384 ,  675.50511104,  686.34722304,\n",
       "        696.39553024,  706.55524864,  716.55538688,  726.5951744 ,\n",
       "        741.82606848,  752.59510784,  762.60098048,  774.96549376,\n",
       "        787.87559424,  799.77562112,  814.52630016,  828.71566336,\n",
       "        842.50525696,  853.56560384,  863.91537664,  874.12523008,\n",
       "        884.36539392,  895.02547968,  905.08525568,  915.62541056,\n",
       "        925.90522368,  937.62551808,  947.7095424 ,  957.79536896,\n",
       "        968.27539456,  985.25626368,  996.84564992, 1007.93532416,\n",
       "       1018.92554752, 1029.77536   , 1040.10612736, 1051.65586432,\n",
       "       1063.69531904, 1075.21523712, 1085.8856448 , 1106.63565312,\n",
       "       1119.41533696, 1130.30561792, 1140.74550272, 1150.82543104,\n",
       "       1160.87308288, 1170.88534528, 1184.45539328, 1195.43676928,\n",
       "       1207.025664  , 1218.22527488, 1228.28570624, 1239.66537728,\n",
       "       1249.775616  , 1260.22565888, 1270.48597504, 1280.71532544,\n",
       "       1291.0256128 , 1305.8056192 , 1329.90533632, 1347.75586816,\n",
       "       1359.765504  , 1373.56541952, 1389.3156864 , 1399.51538176,\n",
       "       1409.61562624, 1420.10548224, 1430.9236736 , 1448.75552768,\n",
       "       1462.77548032, 1472.90570752, 1483.71603456, 1494.27535872,\n",
       "       1504.33579008, 1514.41620992, 1524.4787712 , 1538.10567168,\n",
       "       1549.84546304, 1560.61548544, 1570.8454912 , 1581.55538432,\n",
       "       1593.95561472, 1603.99589376, 1614.43577856, 1624.8455168 ,\n",
       "       1635.52575488, 1645.6327168 , 1657.61548288, 1669.04659968,\n",
       "       1679.88543488, 1692.3058176 , 1703.37533952, 1714.2857728 ,\n",
       "       1724.37553152, 1741.88544   , 1752.305664  , 1762.7357184 ,\n",
       "       1772.9757184 , 1783.61565184, 1797.80550656, 1808.02584576,\n",
       "       1818.20309504, 1828.37559296, 1838.64590336, 1849.675776  ,\n",
       "       1860.2663936 ])"
      ]
     },
     "execution_count": 27,
     "metadata": {},
     "output_type": "execute_result"
    }
   ],
   "source": [
    "PC0_onset"
   ]
  },
  {
   "cell_type": "code",
   "execution_count": 28,
   "id": "aa92500d-3c01-4581-bac7-9f0041bf7efa",
   "metadata": {},
   "outputs": [
    {
     "data": {
      "text/plain": [
       "array([   7.1450624 ,   41.6751616 ,   65.1051008 ,   76.63550464,\n",
       "        114.54529536,  133.95492864,  151.92506368,  157.72516352,\n",
       "        182.08538624,  192.99516416,  212.20507648,  221.405184  ,\n",
       "        233.77526784,  244.4255232 ,  258.87522816,  280.06580224,\n",
       "        290.07527936,  300.10507264,  309.55503616,  315.11576576,\n",
       "        342.69544448,  346.8353536 ,  377.00501504,  395.50517248,\n",
       "        405.0051072 ,  412.8251904 ,  433.90533632,  445.84583168,\n",
       "        456.1461248 ,  474.32548352,  502.0762112 ,  513.68525824,\n",
       "        523.73536768,  539.68519168,  550.99588608,  554.76518912,\n",
       "        581.68541184,  596.7364096 ,  614.55532032,  623.42545408,\n",
       "        636.4553216 ,  662.04516352,  664.59549696,  685.33157888,\n",
       "        696.19531776,  710.0055552 ,  717.6454144 ,  729.67569408,\n",
       "        742.32610816,  753.64532224,  765.35021568,  775.2654848 ,\n",
       "        782.48525824,  795.63554816,  800.8351744 ,  814.96571904,\n",
       "        836.18512896,  857.04523776,  866.79568384,  878.08540672,\n",
       "        889.18556672,  899.03546368,  910.37564928,  921.37521152,\n",
       "        929.77528832,  941.7654272 ,  951.74148096,  961.72539904,\n",
       "        970.60601856,  975.22532352,  994.115584  , 1005.6753152 ,\n",
       "       1016.08554496, 1027.90578176, 1038.10564096, 1049.07538432,\n",
       "       1059.88521984, 1070.0054528 , 1079.18524416, 1091.0253056 ,\n",
       "       1095.155712  , 1113.10536704, 1126.75536896, 1139.50572544,\n",
       "       1145.06563584, 1160.73562112, 1170.86568448, 1179.01524992,\n",
       "       1189.48626432, 1204.7253504 , 1215.18620672, 1228.32551936,\n",
       "       1238.12544512, 1249.1153408 , 1258.65525248, 1269.45542144,\n",
       "       1271.10529024, 1287.62560512, 1295.7155328 , 1312.66543616,\n",
       "       1334.48531968, 1356.8155648 , 1368.31565824, 1381.04553472,\n",
       "       1392.3057664 , 1402.38536704, 1414.52558336, 1429.52316928,\n",
       "       1431.257088  , 1448.83564544, 1472.13549568, 1480.92567552,\n",
       "       1493.08555264, 1502.75571712, 1513.42546944, 1523.59518208,\n",
       "       1532.47547392, 1545.60561152, 1557.39553792, 1566.2956544 ,\n",
       "       1578.6655744 , 1590.56543744, 1603.9755776 , 1614.6956288 ,\n",
       "       1624.26585088, 1634.70557184, 1645.14873344, 1655.14641408,\n",
       "       1666.25574912, 1676.61600768, 1690.9156352 , 1704.21583872,\n",
       "       1719.17754368, 1728.92553216, 1741.84628224, 1753.915392  ,\n",
       "       1763.92552448, 1774.1357056 , 1783.74541312, 1792.47562752,\n",
       "       1807.84562176, 1817.97552128, 1827.57556224, 1838.17551872,\n",
       "       1847.02582784, 1858.46562816, 1861.47586048])"
      ]
     },
     "execution_count": 28,
     "metadata": {},
     "output_type": "execute_result"
    }
   ],
   "source": [
    "PC0_offset"
   ]
  },
  {
   "cell_type": "code",
   "execution_count": 29,
   "id": "9d61e9f7-8f25-4162-bf41-572c7b9333f5",
   "metadata": {},
   "outputs": [],
   "source": [
    "onsetPC0_df = pd.DataFrame(PC0_onset, columns=['timestamps'])\n",
    "offsetPC0_df= pd.DataFrame(PC0_offset, columns=['timestamps'])"
   ]
  },
  {
   "cell_type": "code",
   "execution_count": 30,
   "id": "a888a382-a800-4eef-938f-931d3f6cc154",
   "metadata": {},
   "outputs": [],
   "source": [
    "onsetPC0_df.to_csv (r'C:\\Users\\yongc\\Desktop\\Synapse\\Tanks\\RewardTrainingComp-240307-102847\\dLight_mPFC-240321-123128-csvs\\onsetPC0_df.csv', index = None)\n",
    "offsetPC0_df.to_csv (r'C:\\Users\\yongc\\Desktop\\Synapse\\Tanks\\RewardTrainingComp-240307-102847\\dLight_mPFC-240321-123128-csvs\\offsetPC0_df.csv', index = None)"
   ]
  },
  {
   "cell_type": "code",
   "execution_count": null,
   "id": "50b56fbb-758b-4f2c-9ca8-e2dbd7ab06f3",
   "metadata": {},
   "outputs": [],
   "source": []
  }
 ],
 "metadata": {
  "kernelspec": {
   "display_name": "Python 3 (ipykernel)",
   "language": "python",
   "name": "python3"
  },
  "language_info": {
   "codemirror_mode": {
    "name": "ipython",
    "version": 3
   },
   "file_extension": ".py",
   "mimetype": "text/x-python",
   "name": "python",
   "nbconvert_exporter": "python",
   "pygments_lexer": "ipython3",
   "version": "3.9.13"
  }
 },
 "nbformat": 4,
 "nbformat_minor": 5
}
