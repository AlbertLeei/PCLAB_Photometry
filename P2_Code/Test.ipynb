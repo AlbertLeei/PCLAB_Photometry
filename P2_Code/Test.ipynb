{
 "cells": [
  {
   "cell_type": "markdown",
   "metadata": {},
   "source": [
    "# Single Recording Code"
   ]
  },
  {
   "cell_type": "markdown",
   "metadata": {},
   "source": [
    "Developing Code for Single Recordings\n",
    "- Filtering\n",
    "- Whole Trace Observations\n",
    "- Epoch Extraction\n",
    "- PSTHS"
   ]
  },
  {
   "cell_type": "code",
   "execution_count": 1,
   "metadata": {},
   "outputs": [],
   "source": [
    "import tdt\n",
    "import numpy as np\n",
    "import matplotlib as plt\n",
    "import pandas as pd\n",
    "\n",
    "from Single_Recording_Functions import *"
   ]
  },
  {
   "cell_type": "code",
   "execution_count": 2,
   "metadata": {},
   "outputs": [],
   "source": [
    "experiment_path = r\"C:\\Users\\yongc\\Desktop\\Photometry\\Pilot_2\\Synapse\\Tanks\\5_10_24_Social_Defeat_P2-240510-080738\"\n",
    "single_recording_path = r\"C:\\Users\\yongc\\Desktop\\Photometry\\Pilot_2\\Synapse\\Tanks\\5_10_24_Social_Defeat_P2-240510-080738\\n1-240510-085449\""
   ]
  },
  {
   "cell_type": "markdown",
   "metadata": {},
   "source": [
    "Bout Data from CSV"
   ]
  },
  {
   "cell_type": "code",
   "execution_count": 7,
   "metadata": {},
   "outputs": [],
   "source": [
    "def extract_single_behavior(tdt_recording, behavior_name, bout_aggregated_df):\n",
    "    behavior_df = bout_aggregated_df[(bout_aggregated_df['Behavior'] == behavior_name)]\n",
    "    onset_times = behavior_df['Start (s)'].values.tolist()\n",
    "    offset_times = behavior_df['Stop (s)'].values.tolist()\n",
    "    event_name = behavior_name + '_event'\n",
    "    data_arr = [1] * len(onset_times)\n",
    "\n",
    "    EVENT_DICT = {\n",
    "        \"name\":event_name,\n",
    "        \"onset\":onset_times,\n",
    "        \"offset\":offset_times,\n",
    "        \"type_str\":tdt_recording.epocs.Cam1.type_str,\n",
    "        \"data\":data_arr\n",
    "        }\n",
    "\n",
    "    tdt_recording.epocs[event_name] = tdt.StructType(EVENT_DICT)"
   ]
  },
  {
   "cell_type": "code",
   "execution_count": 8,
   "metadata": {},
   "outputs": [],
   "source": [
    "def extract_manual_annotation_behaviors(tdt_recording, bout_aggregated_csv_path):\n",
    "    bout_aggregated_df = pd.read_csv(bout_aggregated_csv_path)\n",
    "\n",
    "    # Filter the DataFrame to include only rows where the behavior type is 'STATE'\n",
    "    state_behaviors_df = bout_aggregated_df[bout_aggregated_df['Behavior type'] == 'STATE']\n",
    "    unique_behaviors = state_behaviors_df['Behavior'].unique()\n",
    "\n",
    "    for behavior in unique_behaviors:\n",
    "        behavior_df = state_behaviors_df[state_behaviors_df['Behavior'] == behavior]\n",
    "        extract_single_behavior(tdt_recording, behavior, behavior_df)"
   ]
  },
  {
   "cell_type": "code",
   "execution_count": 9,
   "metadata": {},
   "outputs": [
    {
     "name": "stdout",
     "output_type": "stream",
     "text": [
      "Found Synapse note file: C:\\Users\\yongc\\Desktop\\Photometry\\Pilot_2\\Synapse\\Tanks\\5_10_24_Social_Defeat_P2-240510-080738\\n1-240510-085449\\Notes.txt\n",
      "read from t=0s to t=920.46s\n"
     ]
    }
   ],
   "source": [
    "tdt_data = tdt.read_block(single_recording_path)\n",
    "csv_path = r\"P2_Code\\5_10_24_Social_Defeat_Annotations\\n1-240510-085449.csv\"\n",
    "\n",
    "extract_manual_annotation_behaviors(tdt_data, csv_path)\n"
   ]
  },
  {
   "cell_type": "code",
   "execution_count": 10,
   "metadata": {},
   "outputs": [
    {
     "data": {
      "text/plain": [
       "Cam1\t[struct]\n",
       "Cam2\t[struct]\n",
       "Tick\t[struct]\n",
       "Investigation_event\t[struct]\n",
       "Defeat_event\t[struct]\n",
       "Approach_event\t[struct]"
      ]
     },
     "execution_count": 10,
     "metadata": {},
     "output_type": "execute_result"
    }
   ],
   "source": [
    "tdt_data.epocs"
   ]
  },
  {
   "cell_type": "code",
   "execution_count": 9,
   "metadata": {},
   "outputs": [
    {
     "ename": "AttributeError",
     "evalue": "'StructType' object has no attribute 'Defeat_event'",
     "output_type": "error",
     "traceback": [
      "\u001b[1;31m---------------------------------------------------------------------------\u001b[0m",
      "\u001b[1;31mAttributeError\u001b[0m                            Traceback (most recent call last)",
      "Cell \u001b[1;32mIn[9], line 1\u001b[0m\n\u001b[1;32m----> 1\u001b[0m \u001b[43mtdt_data\u001b[49m\u001b[38;5;241;43m.\u001b[39;49m\u001b[43mepocs\u001b[49m\u001b[43m[\u001b[49m\u001b[38;5;124;43m'\u001b[39;49m\u001b[38;5;124;43mDefeat_event\u001b[39;49m\u001b[38;5;124;43m'\u001b[39;49m\u001b[43m]\u001b[49m\n",
      "File \u001b[1;32mc:\\Users\\yongc\\anaconda3\\envs\\Photometry\\Lib\\site-packages\\tdt\\__init__.py:79\u001b[0m, in \u001b[0;36mStructType.__getitem__\u001b[1;34m(self, key)\u001b[0m\n\u001b[0;32m     78\u001b[0m \u001b[38;5;28;01mdef\u001b[39;00m \u001b[38;5;21m__getitem__\u001b[39m(\u001b[38;5;28mself\u001b[39m, key):\n\u001b[1;32m---> 79\u001b[0m     val \u001b[38;5;241m=\u001b[39m \u001b[38;5;28;43mgetattr\u001b[39;49m\u001b[43m(\u001b[49m\u001b[38;5;28;43mself\u001b[39;49m\u001b[43m,\u001b[49m\u001b[43m \u001b[49m\u001b[43mkey\u001b[49m\u001b[43m)\u001b[49m\n\u001b[0;32m     80\u001b[0m     \u001b[38;5;28;01mreturn\u001b[39;00m val\n",
      "\u001b[1;31mAttributeError\u001b[0m: 'StructType' object has no attribute 'Defeat_event'"
     ]
    }
   ],
   "source": [
    "tdt_data.epocs['Defeat_event']"
   ]
  },
  {
   "cell_type": "code",
   "execution_count": 6,
   "metadata": {},
   "outputs": [],
   "source": []
  }
 ],
 "metadata": {
  "kernelspec": {
   "display_name": "Photometry",
   "language": "python",
   "name": "python3"
  },
  "language_info": {
   "codemirror_mode": {
    "name": "ipython",
    "version": 3
   },
   "file_extension": ".py",
   "mimetype": "text/x-python",
   "name": "python",
   "nbconvert_exporter": "python",
   "pygments_lexer": "ipython3",
   "version": "3.12.4"
  }
 },
 "nbformat": 4,
 "nbformat_minor": 2
}
