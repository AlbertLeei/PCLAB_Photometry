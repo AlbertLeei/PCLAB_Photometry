{
 "cells": [
  {
   "cell_type": "code",
   "execution_count": 2,
   "id": "d0b96886",
   "metadata": {},
   "outputs": [],
   "source": [
    "# Jupyter magic\n",
    "%matplotlib inline\n",
    "\n",
    "import numpy as np\n",
    "import matplotlib.pyplot as plt  # standard Python plotting library\n",
    "\n",
    "# import the tdt library\n",
    "import tdt\n",
    "import pandas as pd"
   ]
  },
  {
   "cell_type": "code",
   "execution_count": 3,
   "id": "3d5df866",
   "metadata": {},
   "outputs": [
    {
     "name": "stdout",
     "output_type": "stream",
     "text": [
      "Found Synapse note file: C:/Users/yongc/Desktop/Exp 2 - 03032024 Social Defeat 2/dLight_NAc-240303-085020\\Notes.txt\n",
      "read from t=0s to t=503.58s\n"
     ]
    }
   ],
   "source": [
    "# Must read with \"/\" not \"\\\n",
    "NAc_PATH = 'C:/Users/yongc/Desktop/Exp 2 - 03032024 Social Defeat 2/dLight_NAc-240303-085020'\n",
    "NAc_data = tdt.read_block(NAc_PATH)"
   ]
  },
  {
   "cell_type": "markdown",
   "id": "b03362bd",
   "metadata": {},
   "source": [
    "## Basic Plotting"
   ]
  },
  {
   "cell_type": "code",
   "execution_count": 5,
   "id": "2b4b68ec",
   "metadata": {},
   "outputs": [],
   "source": [
    "#Jupyter has a bug that requires import of matplotlib outside of cell with matplotlib inline magic to properly apply rcParams\n",
    "\n",
    "import matplotlib\n",
    "%matplotlib inline\n",
    "matplotlib.rcParams['font.size'] = 18 # set font size for all figures\n",
    "\n",
    "# Make some variables up here to so if they change in new recordings you won't have to change everything downstream\n",
    "ISOS = '_405A' # 405nm channel.\n",
    "DA = '_465A'"
   ]
  },
  {
   "cell_type": "code",
   "execution_count": null,
   "id": "88edec09",
   "metadata": {},
   "outputs": [],
   "source": [
    "# Make a time array based on the number of samples and sample freq of \n",
    "# the demodulated streams\n",
    "NAc_time = np.linspace(1,len(NAc_data.streams[DA].data), len(NAc_data.streams[DA].data))/NAc_data.streams[DA].fs\n",
    "\n",
    "# Plot both unprocessed demodulated stream            \n",
    "fig1 = plt.figure(figsize=(18,6))\n",
    "ax0 = fig1.add_subplot(121)\n",
    "\n",
    "# Plotting the traces\n",
    "p1, = ax0.plot(NAc_time, NAc_data.streams[DA].data, linewidth=2, color='blue', label='DA NAc')\n",
    "p2, = ax0.plot(NAc_time, NAc_data.streams[ISOS].data, linewidth=2, color='blueviolet', label='ISOS')\n",
    "\n",
    "ax0.set_ylabel('mV')\n",
    "ax0.set_xlabel('Seconds')\n",
    "ax0.set_title('Raw Demodulated Responses')\n",
    "ax0.legend(handles=[p1,p2], loc='upper right')\n",
    "\n",
    "\n",
    "\n",
    "# There is often a large artifact on the onset of LEDs turning on\n",
    "# Remove data below a set time t\n",
    "t = 10\n",
    "inds = np.where(NAc_time>t)\n",
    "ind = inds[0][0]\n",
    "NAc_time = NAc_time[ind:] # go from ind to final index\n",
    "NAc_data.streams[DA].data = NAc_data.streams[DA].data[ind:]\n",
    "NAc_data.streams[ISOS].data = NAc_data.streams[ISOS].data[ind:]\n",
    "\n",
    "# Plot again at new time range\n",
    "ax1 = fig1.add_subplot(122)\n",
    "\n",
    "# Plotting the traces\n",
    "p1, = ax1.plot(NAc_time,NAc_data.streams[DA].data, linewidth=2, color='blue', label='DA NAc')\n",
    "p2, = ax1.plot(NAc_time,NAc_data.streams[ISOS].data, linewidth=2, color='blueviolet', label='ISOS')\n",
    "\n",
    "ax1.set_ylabel('mV')\n",
    "ax1.set_xlabel('Seconds')\n",
    "ax1.set_title('Raw Demodulated Responsed with Initial Artifact Removed')\n",
    "ax1.legend(handles=[p1,p2],loc='upper right')\n",
    "fig1\n"
   ]
  },
  {
   "cell_type": "markdown",
   "id": "dd069ee1",
   "metadata": {},
   "source": [
    "## Converting Boris Data to Epocs"
   ]
  },
  {
   "cell_type": "code",
   "execution_count": null,
   "id": "63d0ab90",
   "metadata": {},
   "outputs": [],
   "source": [
    "csv_path = r\"C:\\Users\\yongc\\Desktop\\Exp2 - DA response to Social Defeat\\Adjusted Videos\\NAc_CD1_02262024.csv\"\n",
    "bout_df = pd.read_csv(csv_path)"
   ]
  },
  {
   "cell_type": "code",
   "execution_count": null,
   "id": "49e549ff",
   "metadata": {
    "scrolled": true
   },
   "outputs": [],
   "source": [
    "bout_df.head()"
   ]
  },
  {
   "cell_type": "markdown",
   "id": "31f1ccfa",
   "metadata": {},
   "source": [
    "fs = Facial Sniffing, \n",
    "as = Anogenital Sniffing"
   ]
  },
  {
   "cell_type": "code",
   "execution_count": null,
   "id": "01d4e341",
   "metadata": {},
   "outputs": [],
   "source": [
    "fs_onset = []\n",
    "fs_offset = []\n",
    "as_onset = []\n",
    "as_offset = []"
   ]
  },
  {
   "cell_type": "code",
   "execution_count": null,
   "id": "e1362b92",
   "metadata": {},
   "outputs": [],
   "source": [
    "fs_onset_values = bout_df[(bout_df['Behavior'] == 'face sniffing') & (bout_df['Behavior type'] == 'START')]['Time'].values\n",
    "fs_onset = fs_onset_values.tolist()\n",
    "\n",
    "fs_offset_values = bout_df[(bout_df['Behavior'] == 'face sniffing') & (bout_df['Behavior type'] == 'STOP')]['Time'].values\n",
    "fs_offset = fs_offset_values.tolist()\n",
    "\n",
    "as_onset_values = bout_df[(bout_df['Behavior'] == 'anogential sniffing') & (bout_df['Behavior type'] == 'START')]['Time'].values\n",
    "as_onset = as_onset_values.tolist()\n",
    "\n",
    "as_offset_values = bout_df[(bout_df['Behavior'] == 'anogential sniffing') & (bout_df['Behavior type'] == 'STOP')]['Time'].values\n",
    "as_offset = as_offset_values.tolist()\n",
    "\n",
    "print(fs_onset)\n",
    "print(fs_offset)\n",
    "print(as_onset)\n",
    "print(as_offset)"
   ]
  },
  {
   "cell_type": "code",
   "execution_count": null,
   "id": "4e991eff",
   "metadata": {},
   "outputs": [],
   "source": [
    "FS_EVENT = 'FS_EVENT'\n",
    "data_arr = []\n",
    "for i in range(14):\n",
    "    data_arr.append(1)\n",
    "\n",
    "FS_DICT = {\n",
    "        \"name\":FS_EVENT,\n",
    "        \"onset\":fs_onset,\n",
    "        \"offset\":fs_offset,\n",
    "        \"type_str\":NAc_data.epocs.Cam1.type_str,\n",
    "        \"data\":data_arr\n",
    "        }\n",
    "\n",
    "NAc_data.epocs.FS_EVENT = tdt.StructType(FS_DICT)\n",
    "FS_EVENT_on = NAc_data.epocs[FS_EVENT].onset\n",
    "FS_EVENT_off = NAc_data.epocs[FS_EVENT].offset\n",
    "\n",
    "\n",
    "AS_EVENT = 'AS_EVENT'\n",
    "data_arr2 = [1, 1, 1, 1, 1, 1, 1]\n",
    "AS_DICT = {\n",
    "        \"name\":AS_EVENT,\n",
    "        \"onset\":as_onset,\n",
    "        \"offset\":as_offset,\n",
    "        \"type_str\":NAc_data.epocs.Cam1.type_str,\n",
    "        \"data\":data_arr2\n",
    "        }\n",
    "\n",
    "NAc_data.epocs.AS_EVENT = tdt.StructType(AS_DICT)\n",
    "AS_EVENT_on = NAc_data.epocs[AS_EVENT].onset\n",
    "AS_EVENT_off = NAc_data.epocs[AS_EVENT].offset\n",
    "\n",
    "onset_pinch = np.array([808.947])\n",
    "offset_pinch = onset_pinch + 0.5\n",
    "\n",
    "PINCH_EVENT = 'PINCH_EVENT'\n",
    "data_arr3 = [1]\n",
    "PINCH_DICT = {\n",
    "        \"name\":PINCH_EVENT,\n",
    "        \"onset\":onset_pinch,\n",
    "        \"offset\":offset_pinch,\n",
    "        \"type_str\": NAc_data.epocs.Cam1.type_str,\n",
    "        \"data\":data_arr3\n",
    "        }\n",
    "\n",
    "NAc_data.epocs.PINCH_EVENT = tdt.StructType(PINCH_DICT)\n",
    "PINCH_EVENT_on =  NAc_data.epocs[PINCH_EVENT].onset\n",
    "PINCH_EVENT_off =  NAc_data.epocs[PINCH_EVENT].offset\n",
    "\n"
   ]
  },
  {
   "cell_type": "markdown",
   "id": "8329159f",
   "metadata": {},
   "source": [
    "## Downsample Data Doing Local Averaging"
   ]
  },
  {
   "cell_type": "code",
   "execution_count": null,
   "id": "426821ae",
   "metadata": {},
   "outputs": [],
   "source": [
    "# Average around every Nth point and downsample Nx\n",
    "N = 10 # Average every 10 samples into 1 value\n",
    "F405 = []\n",
    "F465 = []\n",
    "for i in range(0, len(NAc_data.streams[DA].data), N):\n",
    "    F465.append(np.mean(NAc_data.streams[DA].data[i:i+N-1])) # This is the moving window mean\n",
    "NAc_data.streams[DA].data = F465\n",
    "\n",
    "for i in range(0, len(NAc_data.streams[ISOS].data), N):\n",
    "    F405.append(np.mean(NAc_data.streams[ISOS].data[i:i+N-1]))\n",
    "NAc_data.streams[ISOS].data = F405\n",
    "\n",
    "#decimate time array to match length of demodulated stream\n",
    "NAc_time = NAc_time[::N] # go from beginning to end of array in steps on N\n",
    "NAc_time = NAc_time[:len(NAc_data.streams[DA].data)]\n",
    "\n",
    "# Detrending and dFF\n",
    "# Full trace dFF according to Lerner et al. 2015\n",
    "# https://dx.doi.org/10.1016/j.cell.2015.07.014\n",
    "# dFF using 405 fit as baseline\n",
    "\n",
    "x = np.array(NAc_data.streams[ISOS].data)\n",
    "y = np.array(NAc_data.streams[DA].data)\n",
    "bls = np.polyfit(x, y, 1)\n",
    "Y_fit_all = np.multiply(bls[0], x) + bls[1]\n",
    "Y_dF_all = y - Y_fit_all\n",
    "\n",
    "dFF = np.multiply(100, np.divide(Y_dF_all, Y_fit_all))\n",
    "std_dFF = np.std(dFF)"
   ]
  },
  {
   "cell_type": "code",
   "execution_count": null,
   "id": "e2516eed",
   "metadata": {},
   "outputs": [],
   "source": [
    "FS_EVENT_x = np.append(NAc_time[0], np.append(\n",
    "    np.reshape(np.kron([FS_EVENT_on, FS_EVENT_off],np.array([[1], [1]])).T, [1,-1])[0], NAc_time[-1]))\n",
    "sz = len(FS_EVENT_on)\n",
    "d = NAc_data.epocs[FS_EVENT].data\n",
    "FS_EVENT_y = np.append(np.append(\n",
    "    0, np.reshape(np.vstack([np.zeros(sz), d, d, np.zeros(sz)]).T, [1 ,-1])[0]), 0)\n",
    "\n",
    "AS_EVENT_x = np.append(NAc_time[0], np.append(\n",
    "    np.reshape(np.kron([AS_EVENT_on, AS_EVENT_off],np.array([[1], [1]])).T, [1,-1])[0], NAc_time[-1]))\n",
    "sz = len(AS_EVENT_on)\n",
    "d = NAc_data.epocs[AS_EVENT].data\n",
    "AS_EVENT_y = np.append(np.append(\n",
    "    0, np.reshape(np.vstack([np.zeros(sz), d, d, np.zeros(sz)]).T, [1 ,-1])[0]), 0)\n",
    "\n",
    "PINCH_EVENT_x = np.append(NAc_time[0], np.append(\n",
    "    np.reshape(np.kron([PINCH_EVENT_on, PINCH_EVENT_off],np.array([[1], [1]])).T, [1,-1])[0], NAc_time[-1]))\n",
    "sz = len(PINCH_EVENT_on)\n",
    "d = NAc_data.epocs[PINCH_EVENT].data\n",
    "PINCH_EVENT_y = np.append(np.append(\n",
    "    0, np.reshape(np.vstack([np.zeros(sz), d, d, np.zeros(sz)]).T, [1 ,-1])[0]), 0)"
   ]
  },
  {
   "cell_type": "code",
   "execution_count": null,
   "id": "80845f06",
   "metadata": {},
   "outputs": [],
   "source": [
    "y_scale = 5 #adjust according to data needs\n",
    "y_shift = -5 #scale and shift are just for aesthetics\n",
    "\n",
    "# First subplot in a series: dFF with lick epocs\n",
    "fig2 = plt.figure(figsize=(20,12))\n",
    "ax2 = fig2.add_subplot(111)\n",
    "\n",
    "p1, = ax2.plot(NAc_time, dFF, linewidth=2, color='blue', label='DA')\n",
    "p2, = ax2.plot(FS_EVENT_x, y_scale*FS_EVENT_y+y_shift, linewidth=2, color='green', label='Facial Sniff Bout')\n",
    "p3, = ax2.plot(AS_EVENT_x, y_scale*AS_EVENT_y+y_shift, linewidth=2, color='red', label='Anogenital Sniff Bout')\n",
    "p4, = ax2.plot(PINCH_EVENT_x, y_scale*PINCH_EVENT_y+y_shift, linewidth=2, color='yellow', label='Pinch Bout')\n",
    "\n",
    "\n",
    "ax2.set_ylabel(r'$\\Delta$F/F')\n",
    "ax2.set_xlabel('Seconds')\n",
    "ax2.set_title('dFF with FS and AS Epocs')\n",
    "ax2.legend(handles=[p1,p2,p3,p4], loc='upper right')\n",
    "fig2.tight_layout()"
   ]
  },
  {
   "cell_type": "markdown",
   "id": "2e051708",
   "metadata": {},
   "source": [
    "### Make nice area fills instead of epocs for aesthetics"
   ]
  },
  {
   "cell_type": "code",
   "execution_count": null,
   "id": "219d9db2",
   "metadata": {},
   "outputs": [],
   "source": [
    "fig4 = plt.figure(figsize=(10,6))\n",
    "ax5 = fig4.add_subplot(111)\n",
    "\n",
    "p1, = ax5.plot(NAc_time, dFF,linewidth=2, color='blue', label='DA')\n",
    "for on, off in zip(NAc_data.epocs[FS_EVENT].onset, NAc_data.epocs[FS_EVENT].offset):\n",
    "    ax5.axvspan(on, off, alpha=0.25, color='dodgerblue')\n",
    "    \n",
    "for on, off in zip(NAc_data.epocs[AS_EVENT].onset, NAc_data.epocs[AS_EVENT].offset):\n",
    "    ax5.axvspan(on, off, alpha=0.25, color='red')\n",
    "    \n",
    "for on, off in zip(NAc_data.epocs[PINCH_EVENT].onset, NAc_data.epocs[PINCH_EVENT].offset):\n",
    "    ax5.axvspan(on, off, alpha=0.25, color='purple')\n",
    "    \n",
    "ax5.set_ylabel(r'$\\Delta$F/F')\n",
    "ax5.set_xlabel('Seconds')\n",
    "ax5.set_title('dFF with Sniffing and Anogenital Bouts')\n",
    "fig4.tight_layout()"
   ]
  },
  {
   "cell_type": "markdown",
   "id": "ca7415b9",
   "metadata": {},
   "source": [
    "## Make a Peri-Event Stimulus Plot"
   ]
  },
  {
   "cell_type": "code",
   "execution_count": null,
   "id": "ea0ba261",
   "metadata": {},
   "outputs": [],
   "source": [
    "PRE_TIME = 5 # five seconds before event onset\n",
    "POST_TIME = 5 # ten seconds after\n",
    "fs = NAc_data.streams[DA].fs/N #recall we downsampled by N = 10 earlier\n",
    "\n",
    "# time span for peri-event filtering, PRE and POST, in samples\n",
    "TRANGE = [-PRE_TIME*np.floor(fs), POST_TIME*np.floor(fs)]\n",
    "\n",
    "dFF_snips = []\n",
    "array_ind = []\n",
    "pre_stim = []\n",
    "post_stim = []\n",
    "\n",
    "for on in NAc_data.epocs[FS_EVENT].onset:\n",
    "    # If the bout cannot include pre-time seconds before event, make zero\n",
    "    if on < PRE_TIME:\n",
    "        dFF_snips.append(np.zeros(TRANGE[1]-TRANGE[0]))\n",
    "    else: \n",
    "        # find first time index after bout onset\n",
    "        array_ind.append(np.where(NAc_time > on)[0][0])\n",
    "        # find index corresponding to pre and post stim durations\n",
    "        pre_stim.append(array_ind[-1] + TRANGE[0])\n",
    "        post_stim.append(array_ind[-1] + TRANGE[1])\n",
    "        dFF_snips.append(dFF[int(pre_stim[-1]):int(post_stim[-1])])\n",
    "\n",
    "# Make all snippets the same size based on min snippet length\n",
    "min1 = np.min([np.size(x) for x in dFF_snips])\n",
    "dFF_snips = [x[1:min1] for x in dFF_snips]\n",
    "\n",
    "mean_dFF_snips = np.mean(dFF_snips, axis=0)\n",
    "std_dFF_snips = np.std(mean_dFF_snips, axis=0)\n",
    "\n",
    "peri_time = np.linspace(1, len(mean_dFF_snips), len(mean_dFF_snips))/fs - PRE_TIME"
   ]
  },
  {
   "cell_type": "code",
   "execution_count": null,
   "id": "3b24bd04",
   "metadata": {},
   "outputs": [],
   "source": [
    "fig5 = plt.figure(figsize=(6,10))\n",
    "ax6 = fig5.add_subplot(211)\n",
    "\n",
    "for snip in dFF_snips:\n",
    "    p1, = ax6.plot(peri_time, snip, linewidth=.5, color=[.7, .7, .7], label='Individual Trials')\n",
    "p2, = ax6.plot(peri_time, mean_dFF_snips, linewidth=2, color='blue', label='Mean Response')\n",
    "\n",
    "# Plotting standard error bands\n",
    "p3 = ax6.fill_between(peri_time, mean_dFF_snips+std_dFF_snips, \n",
    "                      mean_dFF_snips-std_dFF_snips, facecolor='blue', alpha=0.2)\n",
    "p4 = ax6.axvline(x=0, linewidth=3, color='slategray', label='FS Bout Onset')\n",
    "\n",
    "ax6.axis('tight')\n",
    "ax6.set_xlabel('Seconds')\n",
    "ax6.set_ylabel(r'$\\Delta$F/F')\n",
    "ax6.set_title('Peri-Event Trial Responses')\n",
    "ax6.legend(handles=[p1, p2, p4], bbox_to_anchor=(1.1, 1.05));"
   ]
  },
  {
   "cell_type": "code",
   "execution_count": null,
   "id": "cc884cb3",
   "metadata": {},
   "outputs": [],
   "source": [
    "PRE_TIME = 5 # five seconds before event onset\n",
    "POST_TIME = 5 # ten seconds after\n",
    "fs = NAc_data.streams[DA].fs/N #recall we downsampled by N = 10 earlier\n",
    "\n",
    "# time span for peri-event filtering, PRE and POST, in samples\n",
    "TRANGE = [-PRE_TIME*np.floor(fs), POST_TIME*np.floor(fs)]\n",
    "\n",
    "dFF_snips = []\n",
    "array_ind = []\n",
    "pre_stim = []\n",
    "post_stim = []\n",
    "\n",
    "for on in NAc_data.epocs[AS_EVENT].onset:\n",
    "    # If the bout cannot include pre-time seconds before event, make zero\n",
    "    if on < PRE_TIME:\n",
    "        dFF_snips.append(np.zeros(TRANGE[1]-TRANGE[0]))\n",
    "    else: \n",
    "        # find first time index after bout onset\n",
    "        array_ind.append(np.where(NAc_time > on)[0][0])\n",
    "        # find index corresponding to pre and post stim durations\n",
    "        pre_stim.append(array_ind[-1] + TRANGE[0])\n",
    "        post_stim.append(array_ind[-1] + TRANGE[1])\n",
    "        dFF_snips.append(dFF[int(pre_stim[-1]):int(post_stim[-1])])\n",
    "\n",
    "# Make all snippets the same size based on min snippet length\n",
    "min1 = np.min([np.size(x) for x in dFF_snips])\n",
    "dFF_snips = [x[1:min1] for x in dFF_snips]\n",
    "\n",
    "mean_dFF_snips = np.mean(dFF_snips, axis=0)\n",
    "std_dFF_snips = np.std(mean_dFF_snips, axis=0)\n",
    "\n",
    "peri_time = np.linspace(1, len(mean_dFF_snips), len(mean_dFF_snips))/fs - PRE_TIME"
   ]
  },
  {
   "cell_type": "code",
   "execution_count": null,
   "id": "9e7350e0",
   "metadata": {},
   "outputs": [],
   "source": [
    "fig5 = plt.figure(figsize=(6,10))\n",
    "ax6 = fig5.add_subplot(211)\n",
    "\n",
    "for snip in dFF_snips:\n",
    "    p1, = ax6.plot(peri_time, snip, linewidth=.5, color=[.7, .7, .7], label='Individual Trials')\n",
    "p2, = ax6.plot(peri_time, mean_dFF_snips, linewidth=2, color='blue', label='Mean Response')\n",
    "\n",
    "# Plotting standard error bands\n",
    "p3 = ax6.fill_between(peri_time, mean_dFF_snips+std_dFF_snips, \n",
    "                      mean_dFF_snips-std_dFF_snips, facecolor='blue', alpha=0.2)\n",
    "p4 = ax6.axvline(x=0, linewidth=3, color='slategray', label='AS Bout Onset')\n",
    "\n",
    "ax6.axis('tight')\n",
    "ax6.set_xlabel('Seconds')\n",
    "ax6.set_ylabel(r'$\\Delta$F/F')\n",
    "ax6.set_title('Peri-Event Trial Responses')\n",
    "ax6.legend(handles=[p1, p2, p4], bbox_to_anchor=(1.1, 1.05));"
   ]
  },
  {
   "cell_type": "code",
   "execution_count": null,
   "id": "8e471168",
   "metadata": {},
   "outputs": [],
   "source": []
  }
 ],
 "metadata": {
  "kernelspec": {
   "display_name": "Python 3 (ipykernel)",
   "language": "python",
   "name": "python3"
  },
  "language_info": {
   "codemirror_mode": {
    "name": "ipython",
    "version": 3
   },
   "file_extension": ".py",
   "mimetype": "text/x-python",
   "name": "python",
   "nbconvert_exporter": "python",
   "pygments_lexer": "ipython3",
   "version": "3.9.13"
  }
 },
 "nbformat": 4,
 "nbformat_minor": 5
}
