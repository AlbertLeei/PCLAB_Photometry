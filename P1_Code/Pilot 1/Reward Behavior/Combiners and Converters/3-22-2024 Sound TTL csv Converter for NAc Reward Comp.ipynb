{
 "cells": [
  {
   "cell_type": "markdown",
   "id": "8c896895-8249-44f7-a96a-5bbca6628102",
   "metadata": {},
   "source": [
    "In this trial, for some weird reason, the sound I/O was freaking out and caused it to have way to many bouts for one sound instance. This converts its"
   ]
  },
  {
   "cell_type": "code",
   "execution_count": 37,
   "id": "7a5eb714-c4f2-4da2-8ed7-c54da2961222",
   "metadata": {},
   "outputs": [],
   "source": [
    "# Jupyter magic\n",
    "%matplotlib inline\n",
    "\n",
    "import numpy as np\n",
    "import matplotlib.pyplot as plt  # standard Python plotting library\n",
    "\n",
    "# import the tdt library\n",
    "import tdt\n",
    "import pandas as pd"
   ]
  },
  {
   "cell_type": "code",
   "execution_count": 38,
   "id": "61714bc2-67cc-46bf-a5d6-300bbc32fdc4",
   "metadata": {},
   "outputs": [
    {
     "name": "stdout",
     "output_type": "stream",
     "text": [
      "Found Synapse note file: C:\\Users\\yongc\\Desktop\\Synapse\\Tanks\\RewardTrainingComp-240307-102847\\dLight_mPFC-240321-123128\\Notes.txt\n",
      "read from t=0s to t=1862.46s\n"
     ]
    }
   ],
   "source": [
    "# Must read with \"/\" not \"\\\n",
    "NAc_PATH = r'C:\\Users\\yongc\\Desktop\\Synapse\\Tanks\\RewardTrainingComp-240307-102847\\dLight_mPFC-240321-123128'\n",
    "NAc_data = tdt.read_block(NAc_PATH)"
   ]
  },
  {
   "cell_type": "markdown",
   "id": "17d80002-fbb2-4b9e-a726-f19614cc5902",
   "metadata": {},
   "source": [
    "PC0 - port entries\n",
    "PC3 - Sound cues"
   ]
  },
  {
   "cell_type": "code",
   "execution_count": 39,
   "id": "69111ce7-dd0c-4ba4-9f5d-f3f49aeb80c1",
   "metadata": {},
   "outputs": [],
   "source": [
    "PC3_onset = NAc_data.epocs.PC3_.onset\n",
    "PC3_offset = NAc_data.epocs.PC3_.offset\n"
   ]
  },
  {
   "cell_type": "code",
   "execution_count": 40,
   "id": "e38cba51-f32d-40be-9887-16e156fd8ca1",
   "metadata": {},
   "outputs": [],
   "source": [
    "PC3_onset = PC3_onset[PC3_onset > 5]\n",
    "PC3_onset = PC3_onset[PC3_onset < 1900]\n",
    "PC3_offset = PC3_offset[PC3_offset > 5]\n",
    "PC3_offset = PC3_offset[PC3_offset < 1900]"
   ]
  },
  {
   "cell_type": "code",
   "execution_count": 41,
   "id": "e1890ca7-c35b-4af7-9828-062f2437a5de",
   "metadata": {},
   "outputs": [],
   "source": [
    "PC3_onset = PC3_onset[1:-1]\n",
    "PC3_offset = PC3_offset[1:-1]"
   ]
  },
  {
   "cell_type": "markdown",
   "id": "7ff43c8c-91c8-4797-9867-a0d4631eee62",
   "metadata": {},
   "source": [
    "Bout Combiner"
   ]
  },
  {
   "cell_type": "code",
   "execution_count": 42,
   "id": "a090a8b9-3b03-4fb7-9ce6-16323008cfdc",
   "metadata": {},
   "outputs": [],
   "source": [
    "def combine_bouts(array, threshold):\n",
    "    combined = [array[0]]\n",
    "    for i in range(1, len(array)):\n",
    "        if array[i] - combined[-1] > threshold:\n",
    "            combined.append(array[i])\n",
    "    return np.array(combined)\n",
    "\n",
    "def combine_bouts_end(array, threshold):\n",
    "    combined = [array[0]]\n",
    "    for i in range(1, len(array)):\n",
    "        if array[i] - combined[-1] > threshold:\n",
    "            combined[-1] = array[i-1]\n",
    "            combined.append(array[i])\n",
    "    combined[-1] = array[-1]  # Ensure the last point is included\n",
    "    return np.array(combined)"
   ]
  },
  {
   "cell_type": "code",
   "execution_count": 43,
   "id": "147ba815-37b0-4e5c-a15a-104eaf5fe073",
   "metadata": {},
   "outputs": [],
   "source": [
    "PC3_onset = combine_bouts(PC3_onset, 10)\n",
    "PC3_offset = combine_bouts_end(PC3_offset, 10)"
   ]
  },
  {
   "cell_type": "code",
   "execution_count": 46,
   "id": "589c7e2f-2875-4e97-b09c-e8d47b640c3e",
   "metadata": {},
   "outputs": [],
   "source": [
    "onsetPC3_df = pd.DataFrame(PC3_onset, columns=['timestamps'])\n",
    "offsetPC3_df = pd.DataFrame(PC3_offset, columns=['timestamps'])"
   ]
  },
  {
   "cell_type": "code",
   "execution_count": 47,
   "id": "a73abd2f-ab11-4955-abb9-f090aeb2ff00",
   "metadata": {},
   "outputs": [],
   "source": [
    "onsetPC3_df.to_csv (r'C:\\Users\\yongc\\Desktop\\Synapse\\Tanks\\RewardTrainingComp-240307-102847\\dLight_mPFC-240321-123128-csvs\\onsetPC3_df.csv', index = None)\n",
    "offsetPC3_df.to_csv (r'C:\\Users\\yongc\\Desktop\\Synapse\\Tanks\\RewardTrainingComp-240307-102847\\dLight_mPFC-240321-123128-csvs\\offsetPC3_df.csv', index = None)"
   ]
  },
  {
   "cell_type": "code",
   "execution_count": null,
   "id": "b7b9b452-99a4-487d-aefe-0e63687caf46",
   "metadata": {},
   "outputs": [],
   "source": []
  },
  {
   "cell_type": "code",
   "execution_count": null,
   "id": "34f49806-3c4a-473c-bb5b-82873e1f132b",
   "metadata": {},
   "outputs": [],
   "source": []
  }
 ],
 "metadata": {
  "kernelspec": {
   "display_name": "Python 3 (ipykernel)",
   "language": "python",
   "name": "python3"
  },
  "language_info": {
   "codemirror_mode": {
    "name": "ipython",
    "version": 3
   },
   "file_extension": ".py",
   "mimetype": "text/x-python",
   "name": "python",
   "nbconvert_exporter": "python",
   "pygments_lexer": "ipython3",
   "version": "3.9.13"
  }
 },
 "nbformat": 4,
 "nbformat_minor": 5
}
